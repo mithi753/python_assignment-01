{
 "cells": [
  {
   "cell_type": "code",
   "execution_count": 2,
   "id": "8633c289-4187-439b-ab79-577754b4625e",
   "metadata": {},
   "outputs": [],
   "source": [
    "import pandas as pd"
   ]
  },
  {
   "cell_type": "code",
   "execution_count": 3,
   "id": "cfe5415e-1096-4845-b003-94281fce220d",
   "metadata": {},
   "outputs": [
    {
     "data": {
      "text/html": [
       "<div>\n",
       "<style scoped>\n",
       "    .dataframe tbody tr th:only-of-type {\n",
       "        vertical-align: middle;\n",
       "    }\n",
       "\n",
       "    .dataframe tbody tr th {\n",
       "        vertical-align: top;\n",
       "    }\n",
       "\n",
       "    .dataframe thead th {\n",
       "        text-align: right;\n",
       "    }\n",
       "</style>\n",
       "<table border=\"1\" class=\"dataframe\">\n",
       "  <thead>\n",
       "    <tr style=\"text-align: right;\">\n",
       "      <th></th>\n",
       "      <th>prefix</th>\n",
       "      <th>first</th>\n",
       "      <th>last</th>\n",
       "      <th>email</th>\n",
       "      <th>gender</th>\n",
       "      <th>age</th>\n",
       "      <th>company</th>\n",
       "      <th>profession</th>\n",
       "      <th>phone</th>\n",
       "      <th>postal</th>\n",
       "      <th>province</th>\n",
       "      <th>cc_no</th>\n",
       "      <th>cc_exp</th>\n",
       "      <th>cc_type</th>\n",
       "      <th>price(CAD)</th>\n",
       "      <th>fav_color</th>\n",
       "      <th>ip</th>\n",
       "      <th>weekday</th>\n",
       "      <th>ampm</th>\n",
       "      <th>date</th>\n",
       "    </tr>\n",
       "  </thead>\n",
       "  <tbody>\n",
       "    <tr>\n",
       "      <th>0</th>\n",
       "      <td>Dr.</td>\n",
       "      <td>Ray</td>\n",
       "      <td>Morton</td>\n",
       "      <td>sebvajom@kol.km</td>\n",
       "      <td>Male</td>\n",
       "      <td>38</td>\n",
       "      <td>Medtronic Inc.</td>\n",
       "      <td>Health Therapist</td>\n",
       "      <td>(987) 619-2695</td>\n",
       "      <td>B6V 3W3</td>\n",
       "      <td>MB</td>\n",
       "      <td>5020000000000230</td>\n",
       "      <td>05/2018</td>\n",
       "      <td>Solo</td>\n",
       "      <td>8.36</td>\n",
       "      <td>Blue</td>\n",
       "      <td>126.23.139.2</td>\n",
       "      <td>Sunday</td>\n",
       "      <td>pm</td>\n",
       "      <td>04/05/1930</td>\n",
       "    </tr>\n",
       "    <tr>\n",
       "      <th>1</th>\n",
       "      <td>Miss</td>\n",
       "      <td>Claudia</td>\n",
       "      <td>Rodriquez</td>\n",
       "      <td>acu@jatsot.ug</td>\n",
       "      <td>Female</td>\n",
       "      <td>51</td>\n",
       "      <td>Ames Department Stores, Inc.</td>\n",
       "      <td>Health Therapist</td>\n",
       "      <td>(356) 736-7352</td>\n",
       "      <td>G7M 5F3</td>\n",
       "      <td>SK</td>\n",
       "      <td>5020000000000230</td>\n",
       "      <td>07/2028</td>\n",
       "      <td>Visa</td>\n",
       "      <td>68.31</td>\n",
       "      <td>Black</td>\n",
       "      <td>106.198.76.211</td>\n",
       "      <td>Tuesday</td>\n",
       "      <td>am</td>\n",
       "      <td>12/20/1926</td>\n",
       "    </tr>\n",
       "    <tr>\n",
       "      <th>2</th>\n",
       "      <td>Miss</td>\n",
       "      <td>Harry</td>\n",
       "      <td>Meyer</td>\n",
       "      <td>zuz@lo.wf</td>\n",
       "      <td>Female</td>\n",
       "      <td>51</td>\n",
       "      <td>CSX Corp.</td>\n",
       "      <td>Political Scientist</td>\n",
       "      <td>(539) 246-1806</td>\n",
       "      <td>A0Z 6P9</td>\n",
       "      <td>NS</td>\n",
       "      <td>6300000000000000</td>\n",
       "      <td>02/2023</td>\n",
       "      <td>Switch</td>\n",
       "      <td>34.65</td>\n",
       "      <td>Black</td>\n",
       "      <td>186.150.187.29</td>\n",
       "      <td>Wednesday</td>\n",
       "      <td>pm</td>\n",
       "      <td>08/20/1931</td>\n",
       "    </tr>\n",
       "    <tr>\n",
       "      <th>3</th>\n",
       "      <td>Miss</td>\n",
       "      <td>Edith</td>\n",
       "      <td>Gilbert</td>\n",
       "      <td>hansohsi@jupec.md</td>\n",
       "      <td>Female</td>\n",
       "      <td>55</td>\n",
       "      <td>Murphy Oil Corporation</td>\n",
       "      <td>Transportation Manager</td>\n",
       "      <td>(984) 962-7494</td>\n",
       "      <td>P9I 9H3</td>\n",
       "      <td>YT</td>\n",
       "      <td>3530000000000000</td>\n",
       "      <td>02/2028</td>\n",
       "      <td>Maestro</td>\n",
       "      <td>64.59</td>\n",
       "      <td>White</td>\n",
       "      <td>80.140.57.161</td>\n",
       "      <td>Saturday</td>\n",
       "      <td>am</td>\n",
       "      <td>06/18/2001</td>\n",
       "    </tr>\n",
       "    <tr>\n",
       "      <th>4</th>\n",
       "      <td>Dr.</td>\n",
       "      <td>Lura</td>\n",
       "      <td>Murphy</td>\n",
       "      <td>webediti@je.st</td>\n",
       "      <td>Female</td>\n",
       "      <td>20</td>\n",
       "      <td>PETsMART Inc</td>\n",
       "      <td>Statistician</td>\n",
       "      <td>(902) 568-9748</td>\n",
       "      <td>S1A 6K0</td>\n",
       "      <td>ON</td>\n",
       "      <td>4030000000000000</td>\n",
       "      <td>10/2025</td>\n",
       "      <td>Diners Club International</td>\n",
       "      <td>20.83</td>\n",
       "      <td>Yellow</td>\n",
       "      <td>211.103.43.41</td>\n",
       "      <td>Friday</td>\n",
       "      <td>pm</td>\n",
       "      <td>06/14/2045</td>\n",
       "    </tr>\n",
       "    <tr>\n",
       "      <th>...</th>\n",
       "      <td>...</td>\n",
       "      <td>...</td>\n",
       "      <td>...</td>\n",
       "      <td>...</td>\n",
       "      <td>...</td>\n",
       "      <td>...</td>\n",
       "      <td>...</td>\n",
       "      <td>...</td>\n",
       "      <td>...</td>\n",
       "      <td>...</td>\n",
       "      <td>...</td>\n",
       "      <td>...</td>\n",
       "      <td>...</td>\n",
       "      <td>...</td>\n",
       "      <td>...</td>\n",
       "      <td>...</td>\n",
       "      <td>...</td>\n",
       "      <td>...</td>\n",
       "      <td>...</td>\n",
       "      <td>...</td>\n",
       "    </tr>\n",
       "    <tr>\n",
       "      <th>29995</th>\n",
       "      <td>Mr.</td>\n",
       "      <td>John</td>\n",
       "      <td>Maxwell</td>\n",
       "      <td>larlisu@sejenu.ad</td>\n",
       "      <td>Female</td>\n",
       "      <td>38</td>\n",
       "      <td>Spherion Corp</td>\n",
       "      <td>Publishing Director</td>\n",
       "      <td>(873) 298-1178</td>\n",
       "      <td>V4U 0X2</td>\n",
       "      <td>YT</td>\n",
       "      <td>6330000000000000</td>\n",
       "      <td>04/2028</td>\n",
       "      <td>Visa Electron</td>\n",
       "      <td>90.37</td>\n",
       "      <td>Red</td>\n",
       "      <td>194.14.119.109</td>\n",
       "      <td>Sunday</td>\n",
       "      <td>am</td>\n",
       "      <td>04/18/2014</td>\n",
       "    </tr>\n",
       "    <tr>\n",
       "      <th>29996</th>\n",
       "      <td>Dr.</td>\n",
       "      <td>Alfred</td>\n",
       "      <td>Bass</td>\n",
       "      <td>le@duridzo.gh</td>\n",
       "      <td>Female</td>\n",
       "      <td>24</td>\n",
       "      <td>Ford Motor Co</td>\n",
       "      <td>Diamond Merchant</td>\n",
       "      <td>(541) 904-3323</td>\n",
       "      <td>T9O 1H6</td>\n",
       "      <td>PE</td>\n",
       "      <td>201000000000000</td>\n",
       "      <td>12/2026</td>\n",
       "      <td>American Express</td>\n",
       "      <td>5.94</td>\n",
       "      <td>White</td>\n",
       "      <td>154.114.74.254</td>\n",
       "      <td>Sunday</td>\n",
       "      <td>pm</td>\n",
       "      <td>09/27/2068</td>\n",
       "    </tr>\n",
       "    <tr>\n",
       "      <th>29997</th>\n",
       "      <td>Mrs.</td>\n",
       "      <td>Edward</td>\n",
       "      <td>Curtis</td>\n",
       "      <td>ta@kucemah.et</td>\n",
       "      <td>Female</td>\n",
       "      <td>56</td>\n",
       "      <td>Park Place Entertainment Corp</td>\n",
       "      <td>Executive Director</td>\n",
       "      <td>(375) 931-8605</td>\n",
       "      <td>X5Z 4E1</td>\n",
       "      <td>QC</td>\n",
       "      <td>201000000000000</td>\n",
       "      <td>06/2021</td>\n",
       "      <td>Maestro</td>\n",
       "      <td>65.66</td>\n",
       "      <td>Black</td>\n",
       "      <td>188.0.106.220</td>\n",
       "      <td>Monday</td>\n",
       "      <td>pm</td>\n",
       "      <td>09/07/1997</td>\n",
       "    </tr>\n",
       "    <tr>\n",
       "      <th>29998</th>\n",
       "      <td>Mr.</td>\n",
       "      <td>Max</td>\n",
       "      <td>Woods</td>\n",
       "      <td>li@mincoz.mp</td>\n",
       "      <td>Female</td>\n",
       "      <td>64</td>\n",
       "      <td>Nacco Industries Inc</td>\n",
       "      <td>University Administrator</td>\n",
       "      <td>(786) 481-9627</td>\n",
       "      <td>G0S 9Q8</td>\n",
       "      <td>NS</td>\n",
       "      <td>30000000000000</td>\n",
       "      <td>08/2023</td>\n",
       "      <td>Solo</td>\n",
       "      <td>52.66</td>\n",
       "      <td>Black</td>\n",
       "      <td>129.168.247.27</td>\n",
       "      <td>Monday</td>\n",
       "      <td>pm</td>\n",
       "      <td>09/08/1938</td>\n",
       "    </tr>\n",
       "    <tr>\n",
       "      <th>29999</th>\n",
       "      <td>Mr.</td>\n",
       "      <td>Olga</td>\n",
       "      <td>Rodriguez</td>\n",
       "      <td>ner@ota.ec</td>\n",
       "      <td>Male</td>\n",
       "      <td>22</td>\n",
       "      <td>Texas Industries Inc.</td>\n",
       "      <td>Leasing Manager</td>\n",
       "      <td>(841) 962-4087</td>\n",
       "      <td>N2D 5K3</td>\n",
       "      <td>BC</td>\n",
       "      <td>6300000000000000</td>\n",
       "      <td>05/2024</td>\n",
       "      <td>InstaPayment</td>\n",
       "      <td>17.71</td>\n",
       "      <td>Yellow</td>\n",
       "      <td>70.2.107.65</td>\n",
       "      <td>Wednesday</td>\n",
       "      <td>am</td>\n",
       "      <td>06/22/1956</td>\n",
       "    </tr>\n",
       "  </tbody>\n",
       "</table>\n",
       "<p>30000 rows × 20 columns</p>\n",
       "</div>"
      ],
      "text/plain": [
       "      prefix    first       last              email  gender  age  \\\n",
       "0        Dr.      Ray     Morton    sebvajom@kol.km    Male   38   \n",
       "1       Miss  Claudia  Rodriquez      acu@jatsot.ug  Female   51   \n",
       "2       Miss    Harry      Meyer          zuz@lo.wf  Female   51   \n",
       "3       Miss    Edith    Gilbert  hansohsi@jupec.md  Female   55   \n",
       "4        Dr.     Lura     Murphy     webediti@je.st  Female   20   \n",
       "...      ...      ...        ...                ...     ...  ...   \n",
       "29995    Mr.     John    Maxwell  larlisu@sejenu.ad  Female   38   \n",
       "29996    Dr.   Alfred       Bass      le@duridzo.gh  Female   24   \n",
       "29997   Mrs.   Edward     Curtis      ta@kucemah.et  Female   56   \n",
       "29998    Mr.      Max      Woods       li@mincoz.mp  Female   64   \n",
       "29999    Mr.     Olga  Rodriguez         ner@ota.ec    Male   22   \n",
       "\n",
       "                             company                profession  \\\n",
       "0                     Medtronic Inc.          Health Therapist   \n",
       "1       Ames Department Stores, Inc.          Health Therapist   \n",
       "2                          CSX Corp.       Political Scientist   \n",
       "3             Murphy Oil Corporation    Transportation Manager   \n",
       "4                       PETsMART Inc              Statistician   \n",
       "...                              ...                       ...   \n",
       "29995                  Spherion Corp       Publishing Director   \n",
       "29996                  Ford Motor Co          Diamond Merchant   \n",
       "29997  Park Place Entertainment Corp        Executive Director   \n",
       "29998           Nacco Industries Inc  University Administrator   \n",
       "29999          Texas Industries Inc.           Leasing Manager   \n",
       "\n",
       "                phone   postal province             cc_no   cc_exp  \\\n",
       "0      (987) 619-2695  B6V 3W3       MB  5020000000000230  05/2018   \n",
       "1      (356) 736-7352  G7M 5F3       SK  5020000000000230  07/2028   \n",
       "2      (539) 246-1806  A0Z 6P9       NS  6300000000000000  02/2023   \n",
       "3      (984) 962-7494  P9I 9H3       YT  3530000000000000  02/2028   \n",
       "4      (902) 568-9748  S1A 6K0       ON  4030000000000000  10/2025   \n",
       "...               ...      ...      ...               ...      ...   \n",
       "29995  (873) 298-1178  V4U 0X2       YT  6330000000000000  04/2028   \n",
       "29996  (541) 904-3323  T9O 1H6       PE   201000000000000  12/2026   \n",
       "29997  (375) 931-8605  X5Z 4E1       QC   201000000000000  06/2021   \n",
       "29998  (786) 481-9627  G0S 9Q8       NS    30000000000000  08/2023   \n",
       "29999  (841) 962-4087  N2D 5K3       BC  6300000000000000  05/2024   \n",
       "\n",
       "                         cc_type  price(CAD) fav_color              ip  \\\n",
       "0                           Solo        8.36      Blue    126.23.139.2   \n",
       "1                           Visa       68.31     Black  106.198.76.211   \n",
       "2                         Switch       34.65     Black  186.150.187.29   \n",
       "3                        Maestro       64.59     White   80.140.57.161   \n",
       "4      Diners Club International       20.83    Yellow   211.103.43.41   \n",
       "...                          ...         ...       ...             ...   \n",
       "29995              Visa Electron       90.37       Red  194.14.119.109   \n",
       "29996           American Express        5.94     White  154.114.74.254   \n",
       "29997                    Maestro       65.66     Black   188.0.106.220   \n",
       "29998                       Solo       52.66     Black  129.168.247.27   \n",
       "29999               InstaPayment       17.71    Yellow     70.2.107.65   \n",
       "\n",
       "         weekday ampm        date  \n",
       "0         Sunday   pm  04/05/1930  \n",
       "1        Tuesday   am  12/20/1926  \n",
       "2      Wednesday   pm  08/20/1931  \n",
       "3       Saturday   am  06/18/2001  \n",
       "4         Friday   pm  06/14/2045  \n",
       "...          ...  ...         ...  \n",
       "29995     Sunday   am  04/18/2014  \n",
       "29996     Sunday   pm  09/27/2068  \n",
       "29997     Monday   pm  09/07/1997  \n",
       "29998     Monday   pm  09/08/1938  \n",
       "29999  Wednesday   am  06/22/1956  \n",
       "\n",
       "[30000 rows x 20 columns]"
      ]
     },
     "execution_count": 3,
     "metadata": {},
     "output_type": "execute_result"
    }
   ],
   "source": [
    "data=pd.read_csv(\"Cust_Purch_FakeData.csv\")\n",
    "data"
   ]
  },
  {
   "cell_type": "markdown",
   "id": "e72f7452-2cdc-434b-9bb0-9b617317dd29",
   "metadata": {},
   "source": [
    "## How many entries your data have? Can you tell the no. of columns in your data?"
   ]
  },
  {
   "cell_type": "code",
   "execution_count": 4,
   "id": "7bbbe91d-5d6f-43fc-9423-ac6afb36c756",
   "metadata": {},
   "outputs": [],
   "source": [
    "num_entries = data.shape[0]\n",
    "num_column = data.shape[1]"
   ]
  },
  {
   "cell_type": "code",
   "execution_count": 5,
   "id": "6dadb1a5-362f-4584-8cb5-068acce4dd42",
   "metadata": {},
   "outputs": [
    {
     "name": "stdout",
     "output_type": "stream",
     "text": [
      " Number of entries  {30000}\n",
      " Number of column  {20}\n"
     ]
    }
   ],
   "source": [
    "print(f\" Number of entries \",{num_entries})\n",
    "print(f\" Number of column \",{num_column})"
   ]
  },
  {
   "cell_type": "markdown",
   "id": "cf5bae73-764f-45b4-9b07-3e0c556d4e81",
   "metadata": {},
   "source": [
    "## What are the max and min ages of your customer? Can you find mean of your customer?"
   ]
  },
  {
   "cell_type": "code",
   "execution_count": 6,
   "id": "12f5d28a-7737-4508-9319-8e967c00edd6",
   "metadata": {},
   "outputs": [],
   "source": [
    "max_age = data['age'].max()\n",
    "min_age = data['age'].min()"
   ]
  },
  {
   "cell_type": "code",
   "execution_count": 7,
   "id": "f97a23fb-0e45-4bce-9c99-c6344c07f8cb",
   "metadata": {},
   "outputs": [
    {
     "name": "stdout",
     "output_type": "stream",
     "text": [
      " Maximum age of my customer is  {65}\n",
      " Minmum age of my customer is  {18}\n"
     ]
    }
   ],
   "source": [
    "print(f\" Maximum age of my customer is \",{max_age})\n",
    "print(f\" Minmum age of my customer is \",{min_age})"
   ]
  },
  {
   "cell_type": "code",
   "execution_count": 8,
   "id": "d0b1cddd-04f6-4973-998e-356bf8bcc392",
   "metadata": {},
   "outputs": [],
   "source": [
    "mean_age= data['age'].mean()"
   ]
  },
  {
   "cell_type": "code",
   "execution_count": 9,
   "id": "5f240f95-0670-46aa-a394-bcbcd0af4bdb",
   "metadata": {},
   "outputs": [
    {
     "name": "stdout",
     "output_type": "stream",
     "text": [
      " Mean age of my customer is  {41.550066666666666}\n"
     ]
    }
   ],
   "source": [
    "print(f\" Mean age of my customer is \",{mean_age})"
   ]
  },
  {
   "cell_type": "markdown",
   "id": "3ca54e2a-fcec-40d7-ab28-910e8585f36d",
   "metadata": {},
   "source": [
    "## What are the three most common customer's names?"
   ]
  },
  {
   "cell_type": "code",
   "execution_count": 10,
   "id": "2da1c4c0-7ce1-4541-a785-3b38c20beaad",
   "metadata": {},
   "outputs": [
    {
     "name": "stdout",
     "output_type": "stream",
     "text": [
      "  prefix    first       last               full_name\n",
      "0    Dr.      Ray     Morton          Dr. Ray Morton\n",
      "1   Miss  Claudia  Rodriquez  Miss Claudia Rodriquez\n",
      "2   Miss    Harry      Meyer        Miss Harry Meyer\n",
      "3   Miss    Edith    Gilbert      Miss Edith Gilbert\n",
      "4    Dr.     Lura     Murphy         Dr. Lura Murphy\n"
     ]
    }
   ],
   "source": [
    "data['full_name'] = data['prefix'] + ' ' + data['first'] + ' ' + data['last']\n",
    "\n",
    "print(data[['prefix', 'first', 'last', 'full_name']].head())"
   ]
  },
  {
   "cell_type": "code",
   "execution_count": 11,
   "id": "bfc15845-f50a-4a8f-b1a8-4def8f13d5a6",
   "metadata": {},
   "outputs": [
    {
     "data": {
      "text/html": [
       "<div>\n",
       "<style scoped>\n",
       "    .dataframe tbody tr th:only-of-type {\n",
       "        vertical-align: middle;\n",
       "    }\n",
       "\n",
       "    .dataframe tbody tr th {\n",
       "        vertical-align: top;\n",
       "    }\n",
       "\n",
       "    .dataframe thead th {\n",
       "        text-align: right;\n",
       "    }\n",
       "</style>\n",
       "<table border=\"1\" class=\"dataframe\">\n",
       "  <thead>\n",
       "    <tr style=\"text-align: right;\">\n",
       "      <th></th>\n",
       "      <th>prefix</th>\n",
       "      <th>first</th>\n",
       "      <th>last</th>\n",
       "      <th>email</th>\n",
       "      <th>gender</th>\n",
       "      <th>age</th>\n",
       "      <th>company</th>\n",
       "      <th>profession</th>\n",
       "      <th>phone</th>\n",
       "      <th>postal</th>\n",
       "      <th>...</th>\n",
       "      <th>cc_no</th>\n",
       "      <th>cc_exp</th>\n",
       "      <th>cc_type</th>\n",
       "      <th>price(CAD)</th>\n",
       "      <th>fav_color</th>\n",
       "      <th>ip</th>\n",
       "      <th>weekday</th>\n",
       "      <th>ampm</th>\n",
       "      <th>date</th>\n",
       "      <th>full_name</th>\n",
       "    </tr>\n",
       "  </thead>\n",
       "  <tbody>\n",
       "    <tr>\n",
       "      <th>0</th>\n",
       "      <td>Dr.</td>\n",
       "      <td>Ray</td>\n",
       "      <td>Morton</td>\n",
       "      <td>sebvajom@kol.km</td>\n",
       "      <td>Male</td>\n",
       "      <td>38</td>\n",
       "      <td>Medtronic Inc.</td>\n",
       "      <td>Health Therapist</td>\n",
       "      <td>(987) 619-2695</td>\n",
       "      <td>B6V 3W3</td>\n",
       "      <td>...</td>\n",
       "      <td>5020000000000230</td>\n",
       "      <td>05/2018</td>\n",
       "      <td>Solo</td>\n",
       "      <td>8.36</td>\n",
       "      <td>Blue</td>\n",
       "      <td>126.23.139.2</td>\n",
       "      <td>Sunday</td>\n",
       "      <td>pm</td>\n",
       "      <td>04/05/1930</td>\n",
       "      <td>Dr. Ray Morton</td>\n",
       "    </tr>\n",
       "    <tr>\n",
       "      <th>1</th>\n",
       "      <td>Miss</td>\n",
       "      <td>Claudia</td>\n",
       "      <td>Rodriquez</td>\n",
       "      <td>acu@jatsot.ug</td>\n",
       "      <td>Female</td>\n",
       "      <td>51</td>\n",
       "      <td>Ames Department Stores, Inc.</td>\n",
       "      <td>Health Therapist</td>\n",
       "      <td>(356) 736-7352</td>\n",
       "      <td>G7M 5F3</td>\n",
       "      <td>...</td>\n",
       "      <td>5020000000000230</td>\n",
       "      <td>07/2028</td>\n",
       "      <td>Visa</td>\n",
       "      <td>68.31</td>\n",
       "      <td>Black</td>\n",
       "      <td>106.198.76.211</td>\n",
       "      <td>Tuesday</td>\n",
       "      <td>am</td>\n",
       "      <td>12/20/1926</td>\n",
       "      <td>Miss Claudia Rodriquez</td>\n",
       "    </tr>\n",
       "    <tr>\n",
       "      <th>2</th>\n",
       "      <td>Miss</td>\n",
       "      <td>Harry</td>\n",
       "      <td>Meyer</td>\n",
       "      <td>zuz@lo.wf</td>\n",
       "      <td>Female</td>\n",
       "      <td>51</td>\n",
       "      <td>CSX Corp.</td>\n",
       "      <td>Political Scientist</td>\n",
       "      <td>(539) 246-1806</td>\n",
       "      <td>A0Z 6P9</td>\n",
       "      <td>...</td>\n",
       "      <td>6300000000000000</td>\n",
       "      <td>02/2023</td>\n",
       "      <td>Switch</td>\n",
       "      <td>34.65</td>\n",
       "      <td>Black</td>\n",
       "      <td>186.150.187.29</td>\n",
       "      <td>Wednesday</td>\n",
       "      <td>pm</td>\n",
       "      <td>08/20/1931</td>\n",
       "      <td>Miss Harry Meyer</td>\n",
       "    </tr>\n",
       "    <tr>\n",
       "      <th>3</th>\n",
       "      <td>Miss</td>\n",
       "      <td>Edith</td>\n",
       "      <td>Gilbert</td>\n",
       "      <td>hansohsi@jupec.md</td>\n",
       "      <td>Female</td>\n",
       "      <td>55</td>\n",
       "      <td>Murphy Oil Corporation</td>\n",
       "      <td>Transportation Manager</td>\n",
       "      <td>(984) 962-7494</td>\n",
       "      <td>P9I 9H3</td>\n",
       "      <td>...</td>\n",
       "      <td>3530000000000000</td>\n",
       "      <td>02/2028</td>\n",
       "      <td>Maestro</td>\n",
       "      <td>64.59</td>\n",
       "      <td>White</td>\n",
       "      <td>80.140.57.161</td>\n",
       "      <td>Saturday</td>\n",
       "      <td>am</td>\n",
       "      <td>06/18/2001</td>\n",
       "      <td>Miss Edith Gilbert</td>\n",
       "    </tr>\n",
       "    <tr>\n",
       "      <th>4</th>\n",
       "      <td>Dr.</td>\n",
       "      <td>Lura</td>\n",
       "      <td>Murphy</td>\n",
       "      <td>webediti@je.st</td>\n",
       "      <td>Female</td>\n",
       "      <td>20</td>\n",
       "      <td>PETsMART Inc</td>\n",
       "      <td>Statistician</td>\n",
       "      <td>(902) 568-9748</td>\n",
       "      <td>S1A 6K0</td>\n",
       "      <td>...</td>\n",
       "      <td>4030000000000000</td>\n",
       "      <td>10/2025</td>\n",
       "      <td>Diners Club International</td>\n",
       "      <td>20.83</td>\n",
       "      <td>Yellow</td>\n",
       "      <td>211.103.43.41</td>\n",
       "      <td>Friday</td>\n",
       "      <td>pm</td>\n",
       "      <td>06/14/2045</td>\n",
       "      <td>Dr. Lura Murphy</td>\n",
       "    </tr>\n",
       "    <tr>\n",
       "      <th>...</th>\n",
       "      <td>...</td>\n",
       "      <td>...</td>\n",
       "      <td>...</td>\n",
       "      <td>...</td>\n",
       "      <td>...</td>\n",
       "      <td>...</td>\n",
       "      <td>...</td>\n",
       "      <td>...</td>\n",
       "      <td>...</td>\n",
       "      <td>...</td>\n",
       "      <td>...</td>\n",
       "      <td>...</td>\n",
       "      <td>...</td>\n",
       "      <td>...</td>\n",
       "      <td>...</td>\n",
       "      <td>...</td>\n",
       "      <td>...</td>\n",
       "      <td>...</td>\n",
       "      <td>...</td>\n",
       "      <td>...</td>\n",
       "      <td>...</td>\n",
       "    </tr>\n",
       "    <tr>\n",
       "      <th>29995</th>\n",
       "      <td>Mr.</td>\n",
       "      <td>John</td>\n",
       "      <td>Maxwell</td>\n",
       "      <td>larlisu@sejenu.ad</td>\n",
       "      <td>Female</td>\n",
       "      <td>38</td>\n",
       "      <td>Spherion Corp</td>\n",
       "      <td>Publishing Director</td>\n",
       "      <td>(873) 298-1178</td>\n",
       "      <td>V4U 0X2</td>\n",
       "      <td>...</td>\n",
       "      <td>6330000000000000</td>\n",
       "      <td>04/2028</td>\n",
       "      <td>Visa Electron</td>\n",
       "      <td>90.37</td>\n",
       "      <td>Red</td>\n",
       "      <td>194.14.119.109</td>\n",
       "      <td>Sunday</td>\n",
       "      <td>am</td>\n",
       "      <td>04/18/2014</td>\n",
       "      <td>Mr. John Maxwell</td>\n",
       "    </tr>\n",
       "    <tr>\n",
       "      <th>29996</th>\n",
       "      <td>Dr.</td>\n",
       "      <td>Alfred</td>\n",
       "      <td>Bass</td>\n",
       "      <td>le@duridzo.gh</td>\n",
       "      <td>Female</td>\n",
       "      <td>24</td>\n",
       "      <td>Ford Motor Co</td>\n",
       "      <td>Diamond Merchant</td>\n",
       "      <td>(541) 904-3323</td>\n",
       "      <td>T9O 1H6</td>\n",
       "      <td>...</td>\n",
       "      <td>201000000000000</td>\n",
       "      <td>12/2026</td>\n",
       "      <td>American Express</td>\n",
       "      <td>5.94</td>\n",
       "      <td>White</td>\n",
       "      <td>154.114.74.254</td>\n",
       "      <td>Sunday</td>\n",
       "      <td>pm</td>\n",
       "      <td>09/27/2068</td>\n",
       "      <td>Dr. Alfred Bass</td>\n",
       "    </tr>\n",
       "    <tr>\n",
       "      <th>29997</th>\n",
       "      <td>Mrs.</td>\n",
       "      <td>Edward</td>\n",
       "      <td>Curtis</td>\n",
       "      <td>ta@kucemah.et</td>\n",
       "      <td>Female</td>\n",
       "      <td>56</td>\n",
       "      <td>Park Place Entertainment Corp</td>\n",
       "      <td>Executive Director</td>\n",
       "      <td>(375) 931-8605</td>\n",
       "      <td>X5Z 4E1</td>\n",
       "      <td>...</td>\n",
       "      <td>201000000000000</td>\n",
       "      <td>06/2021</td>\n",
       "      <td>Maestro</td>\n",
       "      <td>65.66</td>\n",
       "      <td>Black</td>\n",
       "      <td>188.0.106.220</td>\n",
       "      <td>Monday</td>\n",
       "      <td>pm</td>\n",
       "      <td>09/07/1997</td>\n",
       "      <td>Mrs. Edward Curtis</td>\n",
       "    </tr>\n",
       "    <tr>\n",
       "      <th>29998</th>\n",
       "      <td>Mr.</td>\n",
       "      <td>Max</td>\n",
       "      <td>Woods</td>\n",
       "      <td>li@mincoz.mp</td>\n",
       "      <td>Female</td>\n",
       "      <td>64</td>\n",
       "      <td>Nacco Industries Inc</td>\n",
       "      <td>University Administrator</td>\n",
       "      <td>(786) 481-9627</td>\n",
       "      <td>G0S 9Q8</td>\n",
       "      <td>...</td>\n",
       "      <td>30000000000000</td>\n",
       "      <td>08/2023</td>\n",
       "      <td>Solo</td>\n",
       "      <td>52.66</td>\n",
       "      <td>Black</td>\n",
       "      <td>129.168.247.27</td>\n",
       "      <td>Monday</td>\n",
       "      <td>pm</td>\n",
       "      <td>09/08/1938</td>\n",
       "      <td>Mr. Max Woods</td>\n",
       "    </tr>\n",
       "    <tr>\n",
       "      <th>29999</th>\n",
       "      <td>Mr.</td>\n",
       "      <td>Olga</td>\n",
       "      <td>Rodriguez</td>\n",
       "      <td>ner@ota.ec</td>\n",
       "      <td>Male</td>\n",
       "      <td>22</td>\n",
       "      <td>Texas Industries Inc.</td>\n",
       "      <td>Leasing Manager</td>\n",
       "      <td>(841) 962-4087</td>\n",
       "      <td>N2D 5K3</td>\n",
       "      <td>...</td>\n",
       "      <td>6300000000000000</td>\n",
       "      <td>05/2024</td>\n",
       "      <td>InstaPayment</td>\n",
       "      <td>17.71</td>\n",
       "      <td>Yellow</td>\n",
       "      <td>70.2.107.65</td>\n",
       "      <td>Wednesday</td>\n",
       "      <td>am</td>\n",
       "      <td>06/22/1956</td>\n",
       "      <td>Mr. Olga Rodriguez</td>\n",
       "    </tr>\n",
       "  </tbody>\n",
       "</table>\n",
       "<p>30000 rows × 21 columns</p>\n",
       "</div>"
      ],
      "text/plain": [
       "      prefix    first       last              email  gender  age  \\\n",
       "0        Dr.      Ray     Morton    sebvajom@kol.km    Male   38   \n",
       "1       Miss  Claudia  Rodriquez      acu@jatsot.ug  Female   51   \n",
       "2       Miss    Harry      Meyer          zuz@lo.wf  Female   51   \n",
       "3       Miss    Edith    Gilbert  hansohsi@jupec.md  Female   55   \n",
       "4        Dr.     Lura     Murphy     webediti@je.st  Female   20   \n",
       "...      ...      ...        ...                ...     ...  ...   \n",
       "29995    Mr.     John    Maxwell  larlisu@sejenu.ad  Female   38   \n",
       "29996    Dr.   Alfred       Bass      le@duridzo.gh  Female   24   \n",
       "29997   Mrs.   Edward     Curtis      ta@kucemah.et  Female   56   \n",
       "29998    Mr.      Max      Woods       li@mincoz.mp  Female   64   \n",
       "29999    Mr.     Olga  Rodriguez         ner@ota.ec    Male   22   \n",
       "\n",
       "                             company                profession  \\\n",
       "0                     Medtronic Inc.          Health Therapist   \n",
       "1       Ames Department Stores, Inc.          Health Therapist   \n",
       "2                          CSX Corp.       Political Scientist   \n",
       "3             Murphy Oil Corporation    Transportation Manager   \n",
       "4                       PETsMART Inc              Statistician   \n",
       "...                              ...                       ...   \n",
       "29995                  Spherion Corp       Publishing Director   \n",
       "29996                  Ford Motor Co          Diamond Merchant   \n",
       "29997  Park Place Entertainment Corp        Executive Director   \n",
       "29998           Nacco Industries Inc  University Administrator   \n",
       "29999          Texas Industries Inc.           Leasing Manager   \n",
       "\n",
       "                phone   postal  ...             cc_no   cc_exp  \\\n",
       "0      (987) 619-2695  B6V 3W3  ...  5020000000000230  05/2018   \n",
       "1      (356) 736-7352  G7M 5F3  ...  5020000000000230  07/2028   \n",
       "2      (539) 246-1806  A0Z 6P9  ...  6300000000000000  02/2023   \n",
       "3      (984) 962-7494  P9I 9H3  ...  3530000000000000  02/2028   \n",
       "4      (902) 568-9748  S1A 6K0  ...  4030000000000000  10/2025   \n",
       "...               ...      ...  ...               ...      ...   \n",
       "29995  (873) 298-1178  V4U 0X2  ...  6330000000000000  04/2028   \n",
       "29996  (541) 904-3323  T9O 1H6  ...   201000000000000  12/2026   \n",
       "29997  (375) 931-8605  X5Z 4E1  ...   201000000000000  06/2021   \n",
       "29998  (786) 481-9627  G0S 9Q8  ...    30000000000000  08/2023   \n",
       "29999  (841) 962-4087  N2D 5K3  ...  6300000000000000  05/2024   \n",
       "\n",
       "                         cc_type price(CAD)  fav_color              ip  \\\n",
       "0                           Solo       8.36       Blue    126.23.139.2   \n",
       "1                           Visa      68.31      Black  106.198.76.211   \n",
       "2                         Switch      34.65      Black  186.150.187.29   \n",
       "3                        Maestro      64.59      White   80.140.57.161   \n",
       "4      Diners Club International      20.83     Yellow   211.103.43.41   \n",
       "...                          ...        ...        ...             ...   \n",
       "29995              Visa Electron      90.37        Red  194.14.119.109   \n",
       "29996           American Express       5.94      White  154.114.74.254   \n",
       "29997                    Maestro      65.66      Black   188.0.106.220   \n",
       "29998                       Solo      52.66      Black  129.168.247.27   \n",
       "29999               InstaPayment      17.71     Yellow     70.2.107.65   \n",
       "\n",
       "         weekday ampm        date               full_name  \n",
       "0         Sunday   pm  04/05/1930          Dr. Ray Morton  \n",
       "1        Tuesday   am  12/20/1926  Miss Claudia Rodriquez  \n",
       "2      Wednesday   pm  08/20/1931        Miss Harry Meyer  \n",
       "3       Saturday   am  06/18/2001      Miss Edith Gilbert  \n",
       "4         Friday   pm  06/14/2045         Dr. Lura Murphy  \n",
       "...          ...  ...         ...                     ...  \n",
       "29995     Sunday   am  04/18/2014        Mr. John Maxwell  \n",
       "29996     Sunday   pm  09/27/2068         Dr. Alfred Bass  \n",
       "29997     Monday   pm  09/07/1997      Mrs. Edward Curtis  \n",
       "29998     Monday   pm  09/08/1938           Mr. Max Woods  \n",
       "29999  Wednesday   am  06/22/1956      Mr. Olga Rodriguez  \n",
       "\n",
       "[30000 rows x 21 columns]"
      ]
     },
     "execution_count": 11,
     "metadata": {},
     "output_type": "execute_result"
    }
   ],
   "source": [
    "data"
   ]
  },
  {
   "cell_type": "code",
   "execution_count": 12,
   "id": "a838d1f8-a8f4-48b6-968d-6f7b3e3b45b7",
   "metadata": {},
   "outputs": [
    {
     "name": "stdout",
     "output_type": "stream",
     "text": [
      "Three most common customer names:\n",
      "full_name\n",
      "Mr. Callie McCormick    3\n",
      "Mrs. Pauline Bowers     3\n",
      "Dr. Gavin Walsh         2\n",
      "Name: count, dtype: int64\n"
     ]
    }
   ],
   "source": [
    "most_common_names = data['full_name'].value_counts().head(3)\n",
    "print(\"Three most common customer names:\")\n",
    "print(most_common_names)"
   ]
  },
  {
   "cell_type": "markdown",
   "id": "095e535d-f147-4557-98e8-a21da7c8fff7",
   "metadata": {},
   "source": [
    "##     Two customers have the same phone number, can you find those customers?"
   ]
  },
  {
   "cell_type": "code",
   "execution_count": 13,
   "id": "98be1424-dbd7-49d4-8535-a6221ce94ff4",
   "metadata": {},
   "outputs": [
    {
     "name": "stdout",
     "output_type": "stream",
     "text": [
      "Customers with duplicate phone numbers:\n",
      "           full_name           phone\n",
      "15  Mrs. Lilly Tyler  (263) 382-8004\n",
      "16   Mrs. Peter Cain  (263) 382-8004\n"
     ]
    }
   ],
   "source": [
    "duplicate_number = data[data.duplicated('phone', keep=False)]\n",
    "print(\"Customers with duplicate phone numbers:\")\n",
    "print(duplicate_number[['full_name', 'phone']])"
   ]
  },
  {
   "cell_type": "markdown",
   "id": "7b7cd1ea-bd79-4bf5-bec9-372eb756b7b2",
   "metadata": {},
   "source": [
    "##     How many customers have profession \"Structural Engineer\"?"
   ]
  },
  {
   "cell_type": "code",
   "execution_count": 14,
   "id": "7f9ae3b7-e671-42cb-b27a-efb7ee12fd99",
   "metadata": {},
   "outputs": [
    {
     "name": "stdout",
     "output_type": "stream",
     "text": [
      " Number of customers with profession 'Structural Engineer': 87\n"
     ]
    }
   ],
   "source": [
    "structural_engineer_count = data[data['profession'] == 'Structural Engineer'].shape[0]\n",
    "print(f\" Number of customers with profession 'Structural Engineer': {structural_engineer_count}\")"
   ]
  },
  {
   "cell_type": "markdown",
   "id": "3d7030c1-6a5c-4d82-b103-2dccf3caee07",
   "metadata": {},
   "source": [
    "##   How many male customers are 'Structural Engineer'?"
   ]
  },
  {
   "cell_type": "code",
   "execution_count": 15,
   "id": "7d352437-6fe0-4417-9d95-95ba6ba986c5",
   "metadata": {},
   "outputs": [
    {
     "name": "stdout",
     "output_type": "stream",
     "text": [
      "Number of male customers with profession 'Structural Engineer': 43\n"
     ]
    }
   ],
   "source": [
    "male_structural_engineer_count = data[(data['profession'] == 'Structural Engineer') & (data['gender'] == 'Male')].shape[0]\n",
    "print(f\"Number of male customers with profession 'Structural Engineer': {male_structural_engineer_count}\")\n"
   ]
  },
  {
   "cell_type": "markdown",
   "id": "60554c54-07ab-465a-8d61-95a6ce99d5b1",
   "metadata": {},
   "source": [
    "## Find out the female Structural Engineers from province Alberta (AB)?"
   ]
  },
  {
   "cell_type": "code",
   "execution_count": 16,
   "id": "7b860654-74fc-49f2-a9fa-020802d6f2ff",
   "metadata": {},
   "outputs": [
    {
     "name": "stdout",
     "output_type": "stream",
     "text": [
      "Female Structural Engineers from Alberta (AB):\n",
      "                full_name           profession  gender province\n",
      "8858      Dr. Roy Stanley  Structural Engineer  Female       AB\n",
      "9058     Mr. Lora Kennedy  Structural Engineer  Female       AB\n",
      "24736  Mrs. Nell Richards  Structural Engineer  Female       AB\n",
      "29865   Mrs. Don McDaniel  Structural Engineer  Female       AB\n"
     ]
    }
   ],
   "source": [
    "female_se_ab = data[(data['profession'] == 'Structural Engineer') & (data['gender'] == 'Female') & (data['province'] == 'AB')]\n",
    "print(\"Female Structural Engineers from Alberta (AB):\")\n",
    "print(female_se_ab[['full_name', 'profession', 'gender', 'province']])"
   ]
  },
  {
   "cell_type": "markdown",
   "id": "abde5c90-103d-4474-9f48-026dbd65224c",
   "metadata": {},
   "source": [
    "##   What is the max, min and average spending?"
   ]
  },
  {
   "cell_type": "code",
   "execution_count": 17,
   "id": "8bcedfd9-e306-434a-9222-9b1939fba423",
   "metadata": {},
   "outputs": [],
   "source": [
    "max_spending = data['price(CAD)'].max()\n",
    "min_spending = data['price(CAD)'].min()\n",
    "avg_spending = data['price(CAD)'].mean()"
   ]
  },
  {
   "cell_type": "code",
   "execution_count": 18,
   "id": "5db801e1-24ac-4749-a356-c4b5b435b2fc",
   "metadata": {},
   "outputs": [
    {
     "name": "stdout",
     "output_type": "stream",
     "text": [
      " Maximum spending  {100.0}\n",
      " Minimum spending  {0.0}\n",
      " Average spending  {49.990775}\n"
     ]
    }
   ],
   "source": [
    "print(f\" Maximum spending \",{max_spending})\n",
    "print(f\" Minimum spending \",{min_spending})\n",
    "print(f\" Average spending \",{avg_spending})"
   ]
  },
  {
   "cell_type": "markdown",
   "id": "cc117fd7-7c59-402b-aa9f-1f9f773e3e59",
   "metadata": {},
   "source": [
    "##  Who did not spend anything? Company wants to send a deal to encourage the customer to buy stuff!"
   ]
  },
  {
   "cell_type": "code",
   "execution_count": 19,
   "id": "ec68d818-8269-4ad9-98f9-142a6e18f6a7",
   "metadata": {},
   "outputs": [
    {
     "data": {
      "text/html": [
       "<div>\n",
       "<style scoped>\n",
       "    .dataframe tbody tr th:only-of-type {\n",
       "        vertical-align: middle;\n",
       "    }\n",
       "\n",
       "    .dataframe tbody tr th {\n",
       "        vertical-align: top;\n",
       "    }\n",
       "\n",
       "    .dataframe thead th {\n",
       "        text-align: right;\n",
       "    }\n",
       "</style>\n",
       "<table border=\"1\" class=\"dataframe\">\n",
       "  <thead>\n",
       "    <tr style=\"text-align: right;\">\n",
       "      <th></th>\n",
       "      <th>prefix</th>\n",
       "      <th>first</th>\n",
       "      <th>last</th>\n",
       "      <th>email</th>\n",
       "      <th>gender</th>\n",
       "      <th>age</th>\n",
       "      <th>company</th>\n",
       "      <th>profession</th>\n",
       "      <th>phone</th>\n",
       "      <th>postal</th>\n",
       "      <th>...</th>\n",
       "      <th>cc_no</th>\n",
       "      <th>cc_exp</th>\n",
       "      <th>cc_type</th>\n",
       "      <th>price(CAD)</th>\n",
       "      <th>fav_color</th>\n",
       "      <th>ip</th>\n",
       "      <th>weekday</th>\n",
       "      <th>ampm</th>\n",
       "      <th>date</th>\n",
       "      <th>full_name</th>\n",
       "    </tr>\n",
       "  </thead>\n",
       "  <tbody>\n",
       "    <tr>\n",
       "      <th>5320</th>\n",
       "      <td>Dr.</td>\n",
       "      <td>Bruce</td>\n",
       "      <td>Bryan</td>\n",
       "      <td>ru@pubuspuh.cl</td>\n",
       "      <td>Male</td>\n",
       "      <td>59</td>\n",
       "      <td>Wal-Mart Stores Inc</td>\n",
       "      <td>Engineer Technician</td>\n",
       "      <td>(709) 446-8317</td>\n",
       "      <td>H6H 3Y0</td>\n",
       "      <td>...</td>\n",
       "      <td>201000000000000</td>\n",
       "      <td>04/2024</td>\n",
       "      <td>Bankcard</td>\n",
       "      <td>0.0</td>\n",
       "      <td>White</td>\n",
       "      <td>82.70.62.64</td>\n",
       "      <td>Wednesday</td>\n",
       "      <td>am</td>\n",
       "      <td>12/11/1900</td>\n",
       "      <td>Dr. Bruce Bryan</td>\n",
       "    </tr>\n",
       "    <tr>\n",
       "      <th>10597</th>\n",
       "      <td>Mrs.</td>\n",
       "      <td>Flora</td>\n",
       "      <td>Clark</td>\n",
       "      <td>wad@me.com</td>\n",
       "      <td>Female</td>\n",
       "      <td>27</td>\n",
       "      <td>MetLife Inc.</td>\n",
       "      <td>Cruise Director</td>\n",
       "      <td>(775) 373-6590</td>\n",
       "      <td>B2U 8K6</td>\n",
       "      <td>...</td>\n",
       "      <td>30100000000000</td>\n",
       "      <td>05/2020</td>\n",
       "      <td>Diners Club Carte Blanche</td>\n",
       "      <td>0.0</td>\n",
       "      <td>Red</td>\n",
       "      <td>231.156.15.63</td>\n",
       "      <td>Thursday</td>\n",
       "      <td>pm</td>\n",
       "      <td>08/22/1904</td>\n",
       "      <td>Mrs. Flora Clark</td>\n",
       "    </tr>\n",
       "  </tbody>\n",
       "</table>\n",
       "<p>2 rows × 21 columns</p>\n",
       "</div>"
      ],
      "text/plain": [
       "      prefix  first   last           email  gender  age              company  \\\n",
       "5320     Dr.  Bruce  Bryan  ru@pubuspuh.cl    Male   59  Wal-Mart Stores Inc   \n",
       "10597   Mrs.  Flora  Clark      wad@me.com  Female   27         MetLife Inc.   \n",
       "\n",
       "                profession           phone   postal  ...            cc_no  \\\n",
       "5320   Engineer Technician  (709) 446-8317  H6H 3Y0  ...  201000000000000   \n",
       "10597      Cruise Director  (775) 373-6590  B2U 8K6  ...   30100000000000   \n",
       "\n",
       "        cc_exp                    cc_type price(CAD)  fav_color  \\\n",
       "5320   04/2024                   Bankcard        0.0      White   \n",
       "10597  05/2020  Diners Club Carte Blanche        0.0        Red   \n",
       "\n",
       "                  ip    weekday ampm        date         full_name  \n",
       "5320     82.70.62.64  Wednesday   am  12/11/1900   Dr. Bruce Bryan  \n",
       "10597  231.156.15.63   Thursday   pm  08/22/1904  Mrs. Flora Clark  \n",
       "\n",
       "[2 rows x 21 columns]"
      ]
     },
     "execution_count": 19,
     "metadata": {},
     "output_type": "execute_result"
    }
   ],
   "source": [
    "zero_spenders = data[data['price(CAD)'] == 0]\n",
    "zero_spenders"
   ]
  },
  {
   "cell_type": "code",
   "execution_count": 20,
   "id": "1d7997a5-2eb4-4d0b-a1a4-b159fc20b3a4",
   "metadata": {},
   "outputs": [],
   "source": [
    "if zero_spenders.empty:\n",
    "    min_spending = data['price(CAD)'].min()\n",
    "    zero_spenders = data[data['price(CAD)'] == min_spending]"
   ]
  },
  {
   "cell_type": "code",
   "execution_count": 21,
   "id": "bdd80c97-4dd2-4af0-9b59-0dcc55d04b6e",
   "metadata": {},
   "outputs": [
    {
     "name": "stdout",
     "output_type": "stream",
     "text": [
      "Customers who did not spend anything or spent the minimum amount:\n",
      "Dr. Bruce Bryan\n",
      "Mrs. Flora Clark\n"
     ]
    }
   ],
   "source": [
    "print(\"Customers who did not spend anything or spent the minimum amount:\")\n",
    "for index, row in zero_spenders.iterrows():\n",
    "    print(f\"{row['full_name']}\")"
   ]
  },
  {
   "cell_type": "markdown",
   "id": "e400648c-8098-4471-ba5d-1c0bc54644bb",
   "metadata": {},
   "source": [
    "##    As a loyalty reward, company wants to send thanks coupon to those who spent 100CAD or more, please find out the customers?"
   ]
  },
  {
   "cell_type": "code",
   "execution_count": 22,
   "id": "9a68a49e-9090-4800-8e24-cb24a2cbc4cc",
   "metadata": {},
   "outputs": [
    {
     "name": "stdout",
     "output_type": "stream",
     "text": [
      "Customers who spent 100CAD or more:\n",
      "Mrs. Gregory Brown\n",
      "Mrs. Cody Christensen\n",
      "Miss Lizzie Dixon\n"
     ]
    }
   ],
   "source": [
    "loyal_customers = data[data['price(CAD)'] >= 100]\n",
    "print(\"Customers who spent 100CAD or more:\")\n",
    "for index, row in loyal_customers.iterrows():\n",
    "    print(f\"{row['full_name']}\")"
   ]
  },
  {
   "cell_type": "markdown",
   "id": "80a23020-07cb-473d-a8a4-22a2cc9c10fd",
   "metadata": {},
   "source": [
    "##    How many emails are associated with this credit card number '5020000000000230'?"
   ]
  },
  {
   "cell_type": "code",
   "execution_count": 23,
   "id": "f0f9a36a-7e8c-49f2-b92b-12da4fa04114",
   "metadata": {},
   "outputs": [
    {
     "name": "stdout",
     "output_type": "stream",
     "text": [
      "Number of emails associated with credit card 5020000000000230: 2\n"
     ]
    }
   ],
   "source": [
    "data['cc_no'] = data['cc_no'].astype(str)\n",
    "cc_number = '5020000000000230'\n",
    "email_count = len(data[data['cc_no'] == cc_number]['email'])\n",
    "\n",
    "print(f\"Number of emails associated with credit card {cc_number}: {email_count}\")"
   ]
  },
  {
   "cell_type": "markdown",
   "id": "baab6f5c-755c-44cf-bcae-04ff9446ecf9",
   "metadata": {},
   "source": [
    "##    We need to send new cards to the customers well before the expire, how many cards are expiring in 2019?"
   ]
  },
  {
   "cell_type": "code",
   "execution_count": 24,
   "id": "96f12632-f012-4584-95bc-4aa80e92e86d",
   "metadata": {},
   "outputs": [
    {
     "name": "stdout",
     "output_type": "stream",
     "text": [
      "Number of cards expiring in 2019: 0\n"
     ]
    }
   ],
   "source": [
    "data['cc_exp'] = pd.to_datetime(data['cc_exp'], format='%b-%y', errors='coerce')\n",
    "data['cc_exp_year'] = data['cc_exp'].dt.year\n",
    "cards_expiring_2019 = len(data[data['cc_exp_year'] == 2019])\n",
    "\n",
    "print(f\"Number of cards expiring in 2019: {cards_expiring_2019}\")"
   ]
  },
  {
   "cell_type": "markdown",
   "id": "48ffe25c-1152-4a0f-bbf7-29430aedd4e3",
   "metadata": {},
   "source": [
    "##   How many people use Visa as their Credit Card Provider?"
   ]
  },
  {
   "cell_type": "code",
   "execution_count": 25,
   "id": "36d3a9de-6095-4345-ab87-88148cef79fa",
   "metadata": {},
   "outputs": [
    {
     "name": "stdout",
     "output_type": "stream",
     "text": [
      "Number of people using Visa as their Credit Card Provider: 1721\n"
     ]
    }
   ],
   "source": [
    "visa_users = len(data[data['cc_type'] == 'Visa'])\n",
    "print(f\"Number of people using Visa as their Credit Card Provider: {visa_users}\")"
   ]
  },
  {
   "cell_type": "markdown",
   "id": "be6c5a95-dada-4d84-817a-7643d5633b64",
   "metadata": {},
   "source": [
    "## Can you find the customer who spent 100 CAD using Visa?"
   ]
  },
  {
   "cell_type": "code",
   "execution_count": 26,
   "id": "497271ef-bfbf-42f2-94b2-06e4b8650be0",
   "metadata": {},
   "outputs": [
    {
     "name": "stdout",
     "output_type": "stream",
     "text": [
      "             full_name  price(CAD) cc_type\n",
      "76  Mrs. Gregory Brown       100.0    Visa\n"
     ]
    }
   ],
   "source": [
    "customer = data[(data['price(CAD)'] == 100) & (data['cc_type'] == 'Visa')]\n",
    "if not customer.empty:\n",
    "  print(customer[['full_name', 'price(CAD)', 'cc_type']])\n",
    "else:\n",
    "  print(\"No customer found who spent exactly 100 CAD using Visa.\")"
   ]
  },
  {
   "cell_type": "markdown",
   "id": "3bd4b7ff-f2cd-4be7-a7ad-4ca3373e9b7c",
   "metadata": {},
   "source": [
    "## What are two most common professions?"
   ]
  },
  {
   "cell_type": "code",
   "execution_count": 27,
   "id": "75e8d7e0-c3b6-44ee-b6ff-30b1ad7afa30",
   "metadata": {},
   "outputs": [
    {
     "data": {
      "text/plain": [
       "profession\n",
       "Preschool Teacher       112\n",
       "Distribution Manager    107\n",
       "Name: count, dtype: int64"
      ]
     },
     "execution_count": 27,
     "metadata": {},
     "output_type": "execute_result"
    }
   ],
   "source": [
    "top_professions = data['profession'].value_counts().nlargest(2)\n",
    "top_professions"
   ]
  },
  {
   "cell_type": "markdown",
   "id": "58215a56-22d5-4546-8d46-8cf41adca731",
   "metadata": {},
   "source": [
    "##  Can you tell the top 5 most popular email providers? (e.g. gmail.com, yahoo.com, etc...)"
   ]
  },
  {
   "cell_type": "code",
   "execution_count": 28,
   "id": "82c562c7-2638-4607-ab36-d8f6804e0b8d",
   "metadata": {},
   "outputs": [
    {
     "data": {
      "text/plain": [
       "email_domain\n",
       "gmail.com      1687\n",
       "me.com         1676\n",
       "outlook.com    1664\n",
       "live.com       1660\n",
       "hotmail.com    1659\n",
       "Name: count, dtype: int64"
      ]
     },
     "execution_count": 28,
     "metadata": {},
     "output_type": "execute_result"
    }
   ],
   "source": [
    "# Extract the domain from the email addresses\n",
    "data['email_domain'] = data['email'].str.split('@').str[1]\n",
    "\n",
    "# Count the occurrences of each domain\n",
    "domain_counts = data['email_domain'].value_counts()\n",
    "\n",
    "# Get the top 5 most popular email providers\n",
    "top_5_domains = domain_counts.head(5)\n",
    "\n",
    "top_5_domains\n"
   ]
  },
  {
   "cell_type": "markdown",
   "id": "0d96688f-5f4d-449f-a1b8-009f828086de",
   "metadata": {},
   "source": [
    "##   Is there any customer who is using email with \"am.edu\"?"
   ]
  },
  {
   "cell_type": "code",
   "execution_count": 29,
   "id": "e13e5a13-7f4c-4241-84b1-3648f3d1faad",
   "metadata": {},
   "outputs": [
    {
     "name": "stdout",
     "output_type": "stream",
     "text": [
      "Yes, there are customers using email with 'am.edu'.\n",
      "    prefix    first      last         email  gender  age  \\\n",
      "150   Miss  Loretta  Fletcher  barit@am.edu  Female   48   \n",
      "\n",
      "                     company                profession           phone  \\\n",
      "150  York International Corp  Rehabilitation Counselor  (323) 279-8038   \n",
      "\n",
      "      postal  ...                             cc_type price(CAD) fav_color  \\\n",
      "150  E5X 8L0  ...  Diners Club United States & Canada      97.26     White   \n",
      "\n",
      "                 ip  weekday ampm        date              full_name  \\\n",
      "150  147.57.240.225   Monday   am  11/07/2066  Miss Loretta Fletcher   \n",
      "\n",
      "    cc_exp_year email_domain  \n",
      "150         NaN       am.edu  \n",
      "\n",
      "[1 rows x 23 columns]\n"
     ]
    }
   ],
   "source": [
    "# Check for customers using email with \"am.edu\"\n",
    "am_edu_users = data[data['email'].str.contains('am.edu', na=False)]\n",
    "\n",
    "# Print the result\n",
    "if not am_edu_users.empty:\n",
    "    print(\"Yes, there are customers using email with 'am.edu'.\")\n",
    "    print(am_edu_users)\n",
    "else:\n",
    "    print(\"No, there are no customers using email with 'am.edu'.\")"
   ]
  },
  {
   "cell_type": "markdown",
   "id": "a50ea038-5ec9-44a1-ab63-6e9e295e6d6c",
   "metadata": {},
   "source": [
    "##    Which day of the week, the store gets more customers?"
   ]
  },
  {
   "cell_type": "code",
   "execution_count": 30,
   "id": "5b2e7915-52d7-4716-863a-dd1e7e5c8159",
   "metadata": {},
   "outputs": [
    {
     "name": "stdout",
     "output_type": "stream",
     "text": [
      "The store gets the most customers on Saturday.\n"
     ]
    }
   ],
   "source": [
    "# Calculate customer counts for each day of the week\n",
    "day_counts = data['weekday'].value_counts()\n",
    "\n",
    "# Find the day with the maximum customer count\n",
    "busiest_day = day_counts.idxmax()\n",
    "\n",
    "print(f\"The store gets the most customers on {busiest_day}.\")"
   ]
  },
  {
   "cell_type": "code",
   "execution_count": null,
   "id": "928228d3-7910-48aa-9479-a6cad98212f5",
   "metadata": {},
   "outputs": [],
   "source": []
  }
 ],
 "metadata": {
  "kernelspec": {
   "display_name": "Python 3 (ipykernel)",
   "language": "python",
   "name": "python3"
  },
  "language_info": {
   "codemirror_mode": {
    "name": "ipython",
    "version": 3
   },
   "file_extension": ".py",
   "mimetype": "text/x-python",
   "name": "python",
   "nbconvert_exporter": "python",
   "pygments_lexer": "ipython3",
   "version": "3.12.7"
  }
 },
 "nbformat": 4,
 "nbformat_minor": 5
}
